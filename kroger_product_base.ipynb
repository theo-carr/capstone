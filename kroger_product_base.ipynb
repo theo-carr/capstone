{
 "cells": [
  {
   "cell_type": "code",
   "execution_count": 1,
   "id": "2a97f627",
   "metadata": {},
   "outputs": [],
   "source": [
    "import json\n",
    "import pandas as pd\n",
    "import requests"
   ]
  },
  {
   "cell_type": "markdown",
   "id": "ecc2e2b1",
   "metadata": {},
   "source": [
    "**Load in Kroger Keys**"
   ]
  },
  {
   "cell_type": "code",
   "execution_count": 2,
   "id": "99153051",
   "metadata": {},
   "outputs": [],
   "source": [
    "keyfile = open('../Capstone/keys.json')\n",
    "keys = json.load(keyfile)\n",
    "key = keys.get('kroger')\n",
    "keyfile.close()"
   ]
  },
  {
   "cell_type": "markdown",
   "id": "0cb0d884",
   "metadata": {},
   "source": [
    "**Request Token Functions**"
   ]
  },
  {
   "cell_type": "code",
   "execution_count": 20,
   "id": "44620d92",
   "metadata": {},
   "outputs": [],
   "source": [
    "def get_product_token(clientinfo=key):\n",
    "    print(clientinfo)\n",
    "    base = 'https://api.kroger.com/v1/connect/oauth2/token'\n",
    "    headers = {\n",
    "        'Content-Type':'application/x-www-form-urlencoded',\n",
    "        'Authorization': f'Basic {clientinfo}',\n",
    "    }\n",
    "    print(headers.get('Authorization'))\n",
    "    payload = {\n",
    "        'grant_type' : 'client_credentials',\n",
    "        'scope' : 'product.compact'\n",
    "    }\n",
    "    resp = requests.post(base, data=payload,headers=headers)\n",
    "    return resp.json()"
   ]
  },
  {
   "cell_type": "code",
   "execution_count": 21,
   "id": "36814809",
   "metadata": {},
   "outputs": [
    {
     "name": "stdout",
     "output_type": "stream",
     "text": [
      "cHJvZGJ1ZGR5Z3JvY2VyeS04MmJmMDJhZGUwNmQ1MDViM2EzMGY1NTcxYTE1NzA4ZTI3NTU5NTIwMzA5NDM0MzM3ODg6aUVKcll0Z29lYzczOGM3N202SmFtVUctdEt0S25YYXJiSEdmQjMwXw\n",
      "Basic cHJvZGJ1ZGR5Z3JvY2VyeS04MmJmMDJhZGUwNmQ1MDViM2EzMGY1NTcxYTE1NzA4ZTI3NTU5NTIwMzA5NDM0MzM3ODg6aUVKcll0Z29lYzczOGM3N202SmFtVUctdEt0S25YYXJiSEdmQjMwXw\n"
     ]
    },
    {
     "data": {
      "text/plain": [
       "{'error': 'unauthorized', 'error_description': 'invalid credentials'}"
      ]
     },
     "execution_count": 21,
     "metadata": {},
     "output_type": "execute_result"
    }
   ],
   "source": [
    "get_product_token()\n"
   ]
  },
  {
   "cell_type": "code",
   "execution_count": null,
   "id": "43568cee",
   "metadata": {},
   "outputs": [],
   "source": [
    "print(key)"
   ]
  },
  {
   "cell_type": "code",
   "execution_count": null,
   "id": "c82f0ee8",
   "metadata": {},
   "outputs": [],
   "source": []
  }
 ],
 "metadata": {
  "kernelspec": {
   "display_name": "Python 3 (ipykernel)",
   "language": "python",
   "name": "python3"
  },
  "language_info": {
   "codemirror_mode": {
    "name": "ipython",
    "version": 3
   },
   "file_extension": ".py",
   "mimetype": "text/x-python",
   "name": "python",
   "nbconvert_exporter": "python",
   "pygments_lexer": "ipython3",
   "version": "3.9.13"
  }
 },
 "nbformat": 4,
 "nbformat_minor": 5
}
