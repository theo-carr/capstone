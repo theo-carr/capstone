{
 "cells": [
  {
   "cell_type": "code",
   "execution_count": null,
   "id": "2a97f627",
   "metadata": {},
   "outputs": [],
   "source": [
    "import json\n",
    "import pandas as pd\n",
    "import requests"
   ]
  },
  {
   "cell_type": "markdown",
   "id": "ecc2e2b1",
   "metadata": {},
   "source": [
    "**Load in Kroger Keys**"
   ]
  },
  {
   "cell_type": "code",
   "execution_count": null,
   "id": "99153051",
   "metadata": {},
   "outputs": [],
   "source": [
    "keyfile = open('../keys/keys.json')\n",
    "keys = json.load(keyfile)\n",
    "key = keys.get('kroger')\n",
    "keyfile.close()"
   ]
  },
  {
   "cell_type": "markdown",
   "id": "0cb0d884",
   "metadata": {},
   "source": [
    "**Request Token Functions**"
   ]
  },
  {
   "cell_type": "code",
   "execution_count": null,
   "id": "44620d92",
   "metadata": {},
   "outputs": [],
   "source": [
    "def get_product_token(scope = 'product.compact'):\n",
    "    base = 'https://api.kroger.com/v1/connect/oauth2/token'\n",
    "    headers = {\n",
    "        'Content-Type':'application/x-www-form-urlencoded',\n",
    "        'Authorization': f'Basic {key}',\n",
    "    }\n",
    "    payload = {\n",
    "        'grant_type' : 'client_credentials',\n",
    "        'scope' : f'{scope}'\n",
    "    }\n",
    "    resp = requests.post(base, data=payload,headers=headers)\n",
    "    return resp.json().get('access_token')"
   ]
  },
  {
   "cell_type": "code",
   "execution_count": null,
   "id": "57932ebd",
   "metadata": {},
   "outputs": [],
   "source": [
    "def get_location_token():\n",
    "    base = 'https://api.kroger.com/v1/connect/oauth2/token'\n",
    "    headers = {\n",
    "        'Content-Type':'application/x-www-form-urlencoded',\n",
    "        'Authorization': f'Basic {key}',\n",
    "    }\n",
    "    payload = {\n",
    "        'grant_type' : 'client_credentials',\n",
    "    }\n",
    "    resp = requests.post(base, data=payload,headers=headers)\n",
    "    return resp.json().get('access_token')"
   ]
  },
  {
   "cell_type": "markdown",
   "id": "5ac4a639",
   "metadata": {},
   "source": [
    "**Get Products Function**"
   ]
  },
  {
   "cell_type": "code",
   "execution_count": null,
   "id": "d27b4fec",
   "metadata": {},
   "outputs": [],
   "source": [
    "def get_products(brand = 'Kroger', term ='milk', location_id = \"02600547\"):\n",
    "    base = f\"https://api.kroger.com/v1/products?filter.term={term}&filter.locationId={location_id}\"\n",
    "    token = get_product_token()\n",
    "    headers = {\n",
    "        'Accept': 'application/json',\n",
    "        'Authorization' : f'Bearer {token}'\n",
    "\n",
    "    }\n",
    "    response = requests.get(base, headers = headers)\n",
    "    return response.json()"
   ]
  },
  {
   "cell_type": "code",
   "execution_count": null,
   "id": "bd16a1cd",
   "metadata": {},
   "outputs": [],
   "source": [
    "def get_product_details(product_id='0001111041700', location_id = \"02600547\"):\n",
    "    base = f'https://api.kroger.com/v1/products/{product_id}?filter.locationId={location_id}' #?filter.locationId={{LOCATION_ID}} this was the end on the documentation\n",
    "    token = get_product_token(scope = 'product.compact')\n",
    "    headers = {\n",
    "        'Accept': 'application/json',\n",
    "        'Authorization' : f'Bearer {token}'\n",
    "  }\n",
    "    response = requests.get(base, headers=headers)\n",
    "    return response.json()\n",
    "  "
   ]
  },
  {
   "cell_type": "markdown",
   "id": "d2113ab3",
   "metadata": {},
   "source": [
    "**Get Locations Function**"
   ]
  },
  {
   "cell_type": "code",
   "execution_count": null,
   "id": "b409a16e",
   "metadata": {},
   "outputs": [],
   "source": [
    "def get_locations(zipcode = '37209'):\n",
    "    base = f\"https://api.kroger.com/v1/locations?filter.zipCode.near={zipcode}\"\n",
    "    token = get_location_token()\n",
    "    headers = {\n",
    "        'Authorization': f'bearer {token}',\n",
    "        \"Content-Type\": \"application/json; charset=utf-8\"\n",
    "    }\n",
    "    resp = requests.get(base, headers = headers)\n",
    "    return resp.json()"
   ]
  },
  {
   "cell_type": "code",
   "execution_count": null,
   "id": "bcc50ec1",
   "metadata": {},
   "outputs": [],
   "source": [
    "nearme = get_locations()"
   ]
  },
  {
   "cell_type": "code",
   "execution_count": null,
   "id": "3e438dac",
   "metadata": {},
   "outputs": [],
   "source": [
    "soda_json = get_products(term = 'soda')"
   ]
  },
  {
   "cell_type": "code",
   "execution_count": null,
   "id": "9581828f",
   "metadata": {},
   "outputs": [],
   "source": [
    "sodas = soda_json.get('data')"
   ]
  },
  {
   "cell_type": "code",
   "execution_count": null,
   "id": "a3c97daa",
   "metadata": {},
   "outputs": [],
   "source": [
    "sodas[0].get('items')[0].get('price')"
   ]
  },
  {
   "cell_type": "code",
   "execution_count": null,
   "id": "26f16b8d",
   "metadata": {},
   "outputs": [],
   "source": [
    "for x in sodas:\n",
    "    print(x.get('items')[0])\n",
    "    print()"
   ]
  },
  {
   "cell_type": "markdown",
   "id": "7592eda7",
   "metadata": {},
   "source": [
    "lets compare with a different kroger"
   ]
  },
  {
   "cell_type": "code",
   "execution_count": null,
   "id": "b5d5f7d8",
   "metadata": {},
   "outputs": [],
   "source": [
    "other_soda_json = get_products(term = 'soda', location_id='02600843')\n",
    "other_sodas = other_soda_json.get('data')"
   ]
  },
  {
   "cell_type": "code",
   "execution_count": null,
   "id": "64d98050",
   "metadata": {},
   "outputs": [],
   "source": [
    "for x in other_sodas:\n",
    "    print(x.get('items')[0])\n",
    "    print()"
   ]
  },
  {
   "cell_type": "code",
   "execution_count": null,
   "id": "638a93c8",
   "metadata": {},
   "outputs": [],
   "source": []
  },
  {
   "cell_type": "markdown",
   "id": "20f093a9",
   "metadata": {},
   "source": [
    "# To do\n",
    "- Create Locations Function\n",
    "- Clean up products function\n",
    "- Decide what data I want to look at"
   ]
  },
  {
   "cell_type": "markdown",
   "id": "201ec566",
   "metadata": {},
   "source": []
  }
 ],
 "metadata": {
  "kernelspec": {
   "display_name": "Python 3.9.13 ('base')",
   "language": "python",
   "name": "python3"
  },
  "language_info": {
   "codemirror_mode": {
    "name": "ipython",
    "version": 3
   },
   "file_extension": ".py",
   "mimetype": "text/x-python",
   "name": "python",
   "nbconvert_exporter": "python",
   "pygments_lexer": "ipython3",
   "version": "3.9.13"
  },
  "vscode": {
   "interpreter": {
    "hash": "1b41b4c7cc3ca841c4d30f71a98170caa2e8e10c1e3668c41155b172942dc828"
   }
  }
 },
 "nbformat": 4,
 "nbformat_minor": 5
}
