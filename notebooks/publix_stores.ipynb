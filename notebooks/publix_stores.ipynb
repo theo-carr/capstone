{
 "cells": [
  {
   "cell_type": "code",
   "execution_count": null,
   "id": "10e74028",
   "metadata": {},
   "outputs": [],
   "source": [
    "import pandas as pd\n",
    "import json"
   ]
  },
  {
   "cell_type": "code",
   "execution_count": null,
   "id": "73a92491",
   "metadata": {},
   "outputs": [],
   "source": [
    "path = '/Users/boofmeiser/Documents/nss/Capstone/publix_stores.json'\n",
    "##### This Dataframe contians all the stores that were loaded into the json\n",
    "##### based on the query performed on the publix website\n",
    "publix_stores = pd.read_json(path) "
   ]
  },
  {
   "cell_type": "code",
   "execution_count": null,
   "id": "ec5a1d78",
   "metadata": {},
   "outputs": [],
   "source": [
    "#### Function to take the ugly dataframe read in from the json\n",
    "#### and convert it into something useful\n",
    "def stores_to_df(og_df):\n",
    "    storelist = og_df['Stores'].copy().to_list()\n",
    "    popped_stores = [x.pop('IMAGE') for x in storelist]\n",
    "    returndf = pd.DataFrame(storelist)\n",
    "    return returndf"
   ]
  },
  {
   "cell_type": "code",
   "execution_count": null,
   "id": "ac2dd3b5",
   "metadata": {},
   "outputs": [],
   "source": [
    "publix_stores_west_nash = stores_to_df(publix_stores)"
   ]
  },
  {
   "cell_type": "code",
   "execution_count": null,
   "id": "0c898503",
   "metadata": {},
   "outputs": [],
   "source": [
    "publix_stores_west_nash"
   ]
  },
  {
   "cell_type": "code",
   "execution_count": null,
   "id": "d0266cb9",
   "metadata": {},
   "outputs": [],
   "source": []
  }
 ],
 "metadata": {
  "kernelspec": {
   "display_name": "Python 3.9.13 ('scrape')",
   "language": "python",
   "name": "python3"
  },
  "language_info": {
   "codemirror_mode": {
    "name": "ipython",
    "version": 3
   },
   "file_extension": ".py",
   "mimetype": "text/x-python",
   "name": "python",
   "nbconvert_exporter": "python",
   "pygments_lexer": "ipython3",
   "version": "3.9.13"
  },
  "vscode": {
   "interpreter": {
    "hash": "5f371f98b9f7c1ce04f1697dbc80b78519ea46ef835d613be3ddf61a8527211d"
   }
  }
 },
 "nbformat": 4,
 "nbformat_minor": 5
}
